{
 "cells": [
  {
   "cell_type": "code",
   "execution_count": 62,
   "metadata": {},
   "outputs": [],
   "source": [
    "import json\n",
    "import pandas as pd\n",
    "\n",
    "from collections import deque\n",
    "from matplotlib import pyplot as plt"
   ]
  },
  {
   "cell_type": "code",
   "execution_count": 18,
   "metadata": {},
   "outputs": [],
   "source": [
    "graph = None\n",
    "\n",
    "with open('../results/unweighted_graph.json', 'r') as f:\n",
    "    graph = json.load(f)"
   ]
  },
  {
   "cell_type": "markdown",
   "metadata": {},
   "source": [
    "# Graph Properties"
   ]
  },
  {
   "cell_type": "code",
   "execution_count": 67,
   "metadata": {},
   "outputs": [
    {
     "data": {
      "text/plain": [
       "[<matplotlib.lines.Line2D at 0x7f171f252828>]"
      ]
     },
     "execution_count": 67,
     "metadata": {},
     "output_type": "execute_result"
    },
    {
     "data": {
      "image/png": "[encoded data removed]",
      "text/plain": [
       "<Figure size 432x288 with 1 Axes>"
      ]
     },
     "metadata": {
      "needs_background": "light"
     },
     "output_type": "display_data"
    }
   ],
   "source": [
    "lens = [len(s) for s in graph.values()]\n",
    "\n",
    "plt.yscale('log')\n",
    "plt.plot(sorted(lens, reverse=True))"
   ]
  },
  {
   "cell_type": "code",
   "execution_count": 76,
   "metadata": {},
   "outputs": [
    {
     "data": {
      "text/plain": [
       "[<matplotlib.lines.Line2D at 0x7f171e90cba8>]"
      ]
     },
     "execution_count": 76,
     "metadata": {},
     "output_type": "execute_result"
    },
    {
     "data": {
      "image/png": "[encoded data removed]",
      "text/plain": [
       "<Figure size 432x288 with 1 Axes>"
      ]
     },
     "metadata": {
      "needs_background": "light"
     },
     "output_type": "display_data"
    }
   ],
   "source": [
    "plt.yscale('log')\n",
    "plt.plot(sorted(lens, reverse=True)[100:])"
   ]
  },
  {
   "cell_type": "code",
   "execution_count": 134,
   "metadata": {},
   "outputs": [],
   "source": [
    "def remove_words(graph, to_remove):\n",
    "    cleaned_graph = {}\n",
    "    for k,v in graph.items():\n",
    "        if k in to_remove:\n",
    "            continue\n",
    "        cleaned_graph[k] = set()\n",
    "        for vv in v:\n",
    "            if vv in to_remove:\n",
    "                continue\n",
    "            cleaned_graph[k].add(vv)\n",
    "    return cleaned_graph"
   ]
  },
  {
   "cell_type": "code",
   "execution_count": 141,
   "metadata": {},
   "outputs": [
    {
     "name": "stdout",
     "output_type": "stream",
     "text": [
      "96\n",
      "99183\n"
     ]
    }
   ],
   "source": [
    "to_remove = set([k for k,v in graph.items() if len(v) > 1000])\n",
    "print(len(to_remove))\n",
    "cleaned_graph = remove_words(graph, to_remove)\n",
    "print(len(cleaned_graph))"
   ]
  },
  {
   "cell_type": "code",
   "execution_count": 146,
   "metadata": {},
   "outputs": [
    {
     "name": "stdout",
     "output_type": "stream",
     "text": [
      "17079\n",
      "82104\n"
     ]
    }
   ],
   "source": [
    "proper_words = set([k for k in cleaned_graph.keys() if k[0].isupper()])\n",
    "print(len(proper_words))\n",
    "cleaner_graph = remove_words(cleaned_graph, proper_words)\n",
    "print(len(cleaner_graph))\n",
    "\n",
    "assert(all(not k[0].isupper() for k in cleaner_graph))"
   ]
  },
  {
   "cell_type": "markdown",
   "metadata": {},
   "source": [
    "# Graph Search"
   ]
  },
  {
   "cell_type": "code",
   "execution_count": 21,
   "metadata": {},
   "outputs": [],
   "source": [
    "def dfs(graph, curr, dst, visited, length):\n",
    "    if curr == dst:\n",
    "        return [[]]\n",
    "    if curr in visited or length <= 0:\n",
    "        return []\n",
    "    \n",
    "    to_ret = []\n",
    "    for neighbor in graph[curr]:\n",
    "        new_visited = visited | set([curr])\n",
    "        if neighbor in visited:\n",
    "            continue\n",
    "        to_ret += [[neighbor] + a for a in dfs(graph, neighbor, dst, new_visited, length-1)]\n",
    "    return to_ret"
   ]
  },
  {
   "cell_type": "code",
   "execution_count": 23,
   "metadata": {},
   "outputs": [],
   "source": [
    "assert(len(dfs(graph, 'algebra', 'she', set(), 3)) == len(dfs(graph, 'she', 'algebra', set(), 3)))"
   ]
  },
  {
   "cell_type": "code",
   "execution_count": 31,
   "metadata": {},
   "outputs": [],
   "source": [
    "def bfs(graph, src, dst, max_len):\n",
    "    q = deque([src])\n",
    "    visited = {src: (0, 1)}\n",
    "    \n",
    "    while q:\n",
    "        curr = q.popleft()\n",
    "        curr_len, count = visited[curr]\n",
    "        \n",
    "        if dst == curr:\n",
    "            return (curr_len, count)\n",
    "        \n",
    "        if curr_len >= max_len:\n",
    "            break\n",
    "        \n",
    "        for neighbor in graph[curr]:\n",
    "            if neighbor not in visited:\n",
    "                visited[neighbor] = (curr_len+1, count)\n",
    "            elif visited[neighbor][0] == curr_len:\n",
    "                visited[neighbor][1] += count\n",
    "            else:\n",
    "                continue\n",
    "            \n",
    "            q.append(neighbor)\n",
    "            \n",
    "    return (None, None)"
   ]
  },
  {
   "cell_type": "markdown",
   "metadata": {},
   "source": [
    "# Pairwise Evaluation"
   ]
  },
  {
   "cell_type": "code",
   "execution_count": 15,
   "metadata": {},
   "outputs": [
    {
     "name": "stdout",
     "output_type": "stream",
     "text": [
      "{'male': {'son', 'boy', 'brother', 'uncle', 'man', 'he', 'father', 'male', 'him', 'grandfather', 'his'}, 'math': {'computation', 'geometry', 'algebra', 'numbers', 'addition', 'equations', 'math', 'calculus'}, 'science': {'biology', 'physics', 'science', 'astronomy', 'chemistry', 'technology', 'experiment'}, 'arts': {'drama', 'dance', 'symphony', 'novel', 'art', 'literature', 'poetry', 'sculpture'}, 'female': {'girl', 'her', 'sister', 'daughter', 'mother', 'she', 'woman', 'grandmother', 'female', 'aunt'}, 'm1': {'son', 'boy', 'brother', 'man', 'he', 'male', 'him', 'his'}, 'm2': {'son', 'uncle', 'he', 'him', 'brother', 'father', 'grandfather', 'his'}, 'f1': {'girl', 'her', 'sister', 'daughter', 'she', 'woman', 'female'}, 'f2': {'her', 'daughter', 'sister', 'mother', 'aunt', 'she', 'grandmother'}, 'a1': {'drama', 'dance', 'symphony', 'novel', 'art', 'literature', 'poetry', 'sculpture'}, 'a2': {'drama', 'dance', 'symphony', 'novel', 'art', 'literature', 'poetry'}}\n"
     ]
    }
   ],
   "source": [
    "with open('../results/weat.json') as fin:\n",
    "    weat_words = json.load(fin)\n",
    "\n",
    "math_male = set(weat_words['Math_Arts_Male_Female']['Male attributes'])\n",
    "science_male = set(weat_words['Science_Arts_Male_Female']['Male attributes'])\n",
    "male_words = math_male.union(science_male)\n",
    "\n",
    "math_female = set(weat_words['Math_Arts_Male_Female']['Female attributes'])\n",
    "science_female = set(weat_words['Science_Arts_Male_Female']['Female attributes'])\n",
    "female_words = math_female.union(science_female) \n",
    "\n",
    "math_arts = set(weat_words['Math_Arts_Male_Female']['Arts Words'])\n",
    "science_arts = set(weat_words['Science_Arts_Male_Female']['Arts words'])\n",
    "arts_words = math_arts.union(science_arts)\n",
    "science_words = set(weat_words['Science_Arts_Male_Female']['Science words'])\n",
    "math_words = set(weat_words['Math_Arts_Male_Female']['Math words'])\n",
    "\n",
    "female_words.remove('hers')\n",
    "math_female.remove('hers')\n",
    "science_female.remove('hers')\n",
    "\n",
    "word_lists = {\n",
    "    'male': male_words,\n",
    "    'math': math_words,\n",
    "    'science': science_words,\n",
    "    'arts': arts_words,\n",
    "    'female': female_words,\n",
    "    'm1': math_male,\n",
    "    'm2': science_male,\n",
    "    'f1': math_female,\n",
    "    'f2': science_female,\n",
    "    'a1': math_arts,\n",
    "    'a2': science_arts,\n",
    "}\n",
    "print(word_lists)"
   ]
  },
  {
   "cell_type": "code",
   "execution_count": 128,
   "metadata": {},
   "outputs": [],
   "source": [
    "def pairwise_counts(graph, l1, l2):\n",
    "    c = {}\n",
    "    for w1 in word_lists[l1]:\n",
    "        print(w1)\n",
    "        c[w1] = {}\n",
    "        for w2 in word_lists[l2]:\n",
    "            c[w1][w2] = len(dfs(graph, w1, w2, set(), 3))\n",
    "            \n",
    "    return c\n",
    "\n",
    "def pairwise_mult(graph, ls1, ls2):\n",
    "    return {l1: {l2: pd.DataFrame.from_dict(pairwise_counts(graph, l1, l2)) for l2 in ls2} for l1 in ls1}"
   ]
  },
  {
   "cell_type": "code",
   "execution_count": 147,
   "metadata": {},
   "outputs": [
    {
     "name": "stdout",
     "output_type": "stream",
     "text": [
      "computation\n",
      "geometry\n",
      "algebra\n",
      "numbers\n",
      "addition\n",
      "equations\n",
      "math\n",
      "calculus\n",
      "computation\n",
      "geometry\n",
      "algebra\n",
      "numbers\n",
      "addition\n",
      "equations\n",
      "math\n",
      "calculus\n",
      "drama\n",
      "dance\n",
      "symphony\n",
      "novel\n",
      "art\n",
      "literature\n",
      "poetry\n",
      "sculpture\n",
      "drama\n",
      "dance\n",
      "symphony\n",
      "novel\n",
      "art\n",
      "literature\n",
      "poetry\n",
      "sculpture\n"
     ]
    }
   ],
   "source": [
    "math_nums = pairwise_mult(cleaner_graph, ['math', 'a1'], ['m1', 'f1'])"
   ]
  },
  {
   "cell_type": "code",
   "execution_count": 148,
   "metadata": {},
   "outputs": [
    {
     "name": "stdout",
     "output_type": "stream",
     "text": [
      "biology\n",
      "physics\n",
      "science\n",
      "astronomy\n",
      "chemistry\n",
      "technology\n",
      "experiment\n",
      "biology\n",
      "physics\n",
      "science\n",
      "astronomy\n",
      "chemistry\n",
      "technology\n",
      "experiment\n",
      "drama\n",
      "dance\n",
      "symphony\n",
      "novel\n",
      "art\n",
      "literature\n",
      "poetry\n",
      "drama\n",
      "dance\n",
      "symphony\n",
      "novel\n",
      "art\n",
      "literature\n",
      "poetry\n"
     ]
    }
   ],
   "source": [
    "science_nums = pairwise_mult(cleaner_graph, ['science', 'a2'], ['m2', 'f2'])"
   ]
  },
  {
   "cell_type": "code",
   "execution_count": 149,
   "metadata": {},
   "outputs": [
    {
     "data": {
      "text/plain": [
       "0.4581083623690498"
      ]
     },
     "execution_count": 149,
     "metadata": {},
     "output_type": "execute_result"
    }
   ],
   "source": [
    "(math_nums['math']['f1'].sum() / math_nums['math']['m1'].sum()).mean()"
   ]
  },
  {
   "cell_type": "code",
   "execution_count": 150,
   "metadata": {
    "scrolled": true
   },
   "outputs": [
    {
     "data": {
      "text/plain": [
       "0.48580117406687806"
      ]
     },
     "execution_count": 150,
     "metadata": {},
     "output_type": "execute_result"
    }
   ],
   "source": [
    "(math_nums['a1']['f1'].sum()/(math_nums['a1']['m1'].sum())).mean()"
   ]
  },
  {
   "cell_type": "code",
   "execution_count": 151,
   "metadata": {},
   "outputs": [
    {
     "data": {
      "text/plain": [
       "0.5161796879190544"
      ]
     },
     "execution_count": 151,
     "metadata": {},
     "output_type": "execute_result"
    }
   ],
   "source": [
    "(science_nums['science']['f2'].sum()/(science_nums['science']['m2'].sum())).mean()"
   ]
  },
  {
   "cell_type": "code",
   "execution_count": 152,
   "metadata": {},
   "outputs": [
    {
     "data": {
      "text/plain": [
       "0.47454759188517254"
      ]
     },
     "execution_count": 152,
     "metadata": {},
     "output_type": "execute_result"
    }
   ],
   "source": [
    "(science_nums['a2']['f2'].sum()/(science_nums['a2']['m2'].sum())).mean()"
   ]
  }
 ],
 "metadata": {
  "kernelspec": {
   "display_name": "Python 3",
   "language": "python",
   "name": "python3"
  },
  "language_info": {
   "codemirror_mode": {
    "name": "ipython",
    "version": 3
   },
   "file_extension": ".py",
   "mimetype": "text/x-python",
   "name": "python",
   "nbconvert_exporter": "python",
   "pygments_lexer": "ipython3",
   "version": "3.6.9"
  }
 },
 "nbformat": 4,
 "nbformat_minor": 4
}
