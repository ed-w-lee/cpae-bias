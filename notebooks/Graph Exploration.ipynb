{
 "cells": [
  {
   "cell_type": "code",
   "execution_count": 1,
   "metadata": {},
   "outputs": [],
   "source": [
    "import json\n",
    "import pandas as pd\n",
    "\n",
    "from collections import deque\n",
    "from matplotlib import pyplot as plt"
   ]
  },
  {
   "cell_type": "code",
   "execution_count": 2,
   "metadata": {},
   "outputs": [],
   "source": [
    "graph = None\n",
    "\n",
    "with open('../results/unweighted_graph.json', 'r') as f:\n",
    "    graph = json.load(f)"
   ]
  },
  {
   "cell_type": "markdown",
   "metadata": {},
   "source": [
    "# Graph Properties"
   ]
  },
  {
   "cell_type": "code",
   "execution_count": 12,
   "metadata": {},
   "outputs": [
    {
     "name": "stdout",
     "output_type": "stream",
     "text": [
      "Hamilton : English beauty who was the mistress of Admiral Nelson ( 1765-1815 ) <sep> the capital of Bermuda <sep> United States toxicologist known for her work on industrial poisons ( 1869-1970 ) <sep> Irish mathematician ( 1806-1865 ) <sep> a port city in southeastern Ontario at the western end of Lake Ontario <sep> United States statesman and leader of the Federalists ; as the first Secretary of the Treasury he establish a federal bank ; was mortally wounded in a duel with Aaron Burr ( 1755-1804 )\n",
      "Clytemnestra : ( Greek mythology ) wife of Agamemnon who had him murdered when he returned from the Trojan War\n",
      "Harvey : English physician and scientist who described the circulation of the blood ; he later proposed that all animals originate from an ovum produced by the female of the species ( 1578-1657 )\n",
      "Laurentius : Roman martyr ; supposedly Lawrence was ordered by the police to give up the church 's treasure and when he responded by presenting the poor people of Rome he was roasted to death on a gridiron ( died in 258 )\n",
      "Bowie : United States pioneer and hero of the Texas revolt against Mexico ; he shared command of the garrison that resisted the Mexican attack on the Alamo where he died ( 1796-1836 )\n",
      "Sinbad : in the Arabian Nights a hero who tells of the fantastic adventures he had in his voyages\n",
      "Dodgson : English author ; Charles Dodgson was an Oxford don of mathematics who is remembered for the children 's stories he wrote under the pen name Lewis Carroll ( 1832-1898 )\n",
      "Montespan : French noblewoman who was mistress to Louis XIV until he became attracted to Madame de Maintenon ( 1641-1707 )\n",
      "Magellan : Portuguese navigator in the service of Spain ; he commanded an expedition that was the first to circumnavigate the world ( 1480-1521 )\n",
      "Kingmaker : English statesman ; during the War of the Roses he fought first for the house of York and secured the throne for Edward IV and then changed sides to fight for the house of Lancaster and secured the throne for Henry VI ( 1428-1471 )\n",
      "Heaviside : English physicist and electrical engineer who helped develop telegraphic and telephonic communications ; in 1902 ( independent of A. E. Kennelly ) he suggested the existence of an atmospheric layer that reflects radio waves back to earth ( 1850-1925 )\n",
      "Augustine : ( Roman Catholic Church ) one of the great Fathers of the early Christian church ; after a dramatic conversion to Christianity he became bishop of Hippo Regius in North Africa ; St. Augustine emphasized man 's need for grace ( 354-430 )\n",
      "contrarily : contrary to expectations ; on the contrary , he went out with his friends \" <sep> in a contrary disobedient manner\n",
      "Beethoven : German composer of instrumental music ( especially symphonic and chamber music ) ; continued to compose after he lost his hearing ( 1770-1827 ) <sep> the music of Beethoven\n",
      "Cincinnatus : Roman statesman regarded as a model of simple virtue ; he twice was called to assume dictatorship of Rome and each time retired to his farm ( 519-438 BC )\n",
      "substitution : an event in which one thing is substituted for another <sep> the act of putting one thing or person in the place of another : \" he sent Smith in for Jones but the substitution came too late to help \"\n",
      "Scopes : Tennessee highschool teacher who violated a state law by teaching evolution ; in a highly publicized trial in 1925 he was prosecuted by William Jennings Bryan and defended by Clarence Darrow ( 1900-1970 )\n",
      "inpatient : a patient who is residing in the hospital where he is being treated\n",
      "swagman : an itinerant Australian laborer who carries his personal belongings in a bundle as he travels around in search of work\n",
      "Maximian : Roman Emperor from 286 until he abdicated in 305 ; when Diocletian divided the Roman Empire in 286 Maximian became emperor in the west ( died in 311 )\n",
      "Pompey : Roman general and statesman who quarrelled with Caesar and fled to Egypt where he was murdered ( 106-48 BC ) <sep> a port city in southern England on the English Channel ; Britain 's major naval base\n",
      "Charles : King of France who began his reign with most of northern France under English control ; after the intervention of Jeanne d'Arc the French were able to defeat the English and end the Hundred Years ' War ( 1403-1461 ) <sep> the eldest son of Elizabeth II and heir to the English throne ( born in 1948 ) <sep> king of the Franks and Holy Roman Emperor ; conqueror of the Lombards and Saxons ( 742-814 ) <sep> as Charles II he was Holy Roman Emperor and as Charles I he was king of France ( 823-877 ) <sep> a river in eastern Massachusetts that empties into Boston Harbor and that separates Cambridge from Boston <sep> French physicist and author of Charles 's law which anticipated Gay-Lussac 's law ( 1746-1823 ) <sep> King of England and Scotland and Ireland during the Restoration ( 1630-1685 ) <sep> son of James I who was King of England and Scotland and Ireland ; was deposed and executed by Oliver Cromwell ( 1600-1649 ) <sep> King of France from 1560 to 1574 whose reign was dominated by his mother Catherine de Medicis ( 1550-1574 )\n",
      "Odin : ( Norse mythology ) ruler of the Aesir ; supreme god of war and poetry and knowledge and wisdom ( for which he gave an eye ) and husband of Frigg ; identified with the Teutonic Wotan\n",
      "anesthetist : a specialist who administers an anesthetic to a patient before he is treated\n",
      "treed : chase an animal up a tree <sep> plant with trees <sep> forced to turn and face attackers <sep> stretch ( a shoe ) on a shoetree <sep> force a person or an animal into a position from which he can not escape\n",
      "Wells : prolific English writer best known for his science-fiction novels ; he also wrote on contemporary social problems and wrote popular accounts of history and science ( 1866-1946 )\n",
      "truckler : someone who humbles himself as a sign of respect ; who behaves as if he had no self-respect\n",
      "Crispin : patron saint of shoemakers ; he and his brother were martyred for trying to spread Christianity ( 3rd century )\n",
      "Paraclete : the third person in the Trinity ; Jesus promised the Apostles that he would send the Holy Spirit after his Crucifixion and Resurrection ; it came on Pentecost\n",
      "Demetrius : son of Antigonus Cyclops and king of Macedonia ; he and his father were defeated at the battle of Ipsus ( 337-283 BC )\n",
      "submission : the act of submitting ; usually surrendering power to another <sep> something ( manuscripts or architectural plans and models or estimates or works of art of all genres etc. ) submitted for the judgment of others ( as in a competition ) <sep> the condition of having submitted to control by someone or something else <sep> ( law ) a contention presented by a lawyer to a judge or jury as part of the case he is arguing <sep> the feeling of patient , submissive humbleness <sep> a legal document summarizing an agreement between parties in a dispute to abide by the decision of an arbiter <sep> an agreement between parties in a dispute to abide by the decision of an arbiter\n",
      "imprison : confine as if in a prison ; he does not let them go out without a chaperone \" <sep> lock up or confine , in or as in a jail\n",
      "Cabot : son of John Cabot who was born in Italy and who led an English expedition in search of the Northwest Passage and a Spanish expedition that explored the La Plata region of Brazil ; in 1544 he published a map of the world ( 1476-1557 ) <sep> Italian explorer who led the English expedition in 1497 that discovered the mainland of North America and explored the coast from Nova Scotia to Newfoundland ( ca. 1450-1498 )\n",
      "Ethelred : king of Wessex and Kent and elder brother of Alfred ; Alfred joined Ethelred 's battle against the invading Danes and succeeded him on his death ( died in 871 ) <sep> king of the English who succeeded to the throne after his half-brother Edward the Martyr was murdered ; he struggled unsuccessfully against the invading Danes ( 969-1016 )\n",
      "anesthesiologist : a specialist who administers an anesthetic to a patient before he is treated\n",
      "Elijah : a Hebrew prophet in the Old Testament who opposed the worship of idols ; he was persecuted for rebuking Ahab and Jezebel ( king and queen of Israel ) ; he was taken up to heaven in a chariot of fire ( circa 9th century BC )\n",
      "Fuchs : British physicist who was born in Germany and fled Nazi persecution ; in the 1940s he passed secret information to the USSR about the development of the atom bomb in the United States ( 1911-1988 )\n",
      "Schliemann : German archaeologist who discovered nine superimposed city sites of Troy ; he also excavated Mycenae ( 1822-1890 )\n",
      "Theodosius : the last emperor of a united Roman Empire , he took control of the eastern empire and ended the war with the Visigoths ; he became a Christian and in 391 banned all forms of pagan worship ( 346-395 )\n",
      "Bligh : British admiral ; was captain of the H.M.S. Bounty in 1789 when part of the crew mutinied and set him afloat in an open boat ; a few weeks later he arrived safely in Timor 4,000 miles away ( 1754-1817 )\n",
      "Tindal : English translator and Protestant martyr ; his translation of the Bible into English ( which later formed the basis for the King James Version ) aroused ecclesiastical opposition ; he left England in 1524 and was burned at the stake in Antwerp as a heretic ( 1494-1536 )\n",
      "Wellington : the capital of New Zealand <sep> ( 19th century ) a man 's high tasseled boot <sep> British general and statesman ; he defeated Napoleon at Waterloo ; subsequently served as Prime Minister ( 1769-1852 )\n",
      "Endicott : born in England ; in 1629 he became the founder of the Massachusetts Bay Colony ( 1588-1665 )\n",
      "Tindale : English translator and Protestant martyr ; his translation of the Bible into English ( which later formed the basis for the King James Version ) aroused ecclesiastical opposition ; he left England in 1524 and was burned at the stake in Antwerp as a heretic ( 1494-1536 )\n",
      "Holbein : German painter of religious works ( 1465-1524 ) <sep> German painter and engraver noted for his portraits ; he was commissioned by Henry VIII to provide portraits of the English king 's prospective brides ( 1497-1543 )\n",
      "Tell : a Swiss patriot who lived in the early 14th century and who was renowned for his skill as an archer ; according to legend an Austrian governor compelled him to shoot an apple from his son 's head with his crossbow ( which he did successfully without mishap )\n",
      "Tyndale : English translator and Protestant martyr ; his translation of the Bible into English ( which later formed the basis for the King James Version ) aroused ecclesiastical opposition ; he left England in 1524 and was burned at the stake in Antwerp as a heretic ( 1494-1536 )\n",
      "Tyndall : British physicist ( born in Ireland ) remembered for his experiments on the transparency of gases and the absorption of radiant heat by gases and the transmission of sound through the atmosphere ; he was the first person to explain why the daylight sky is blue ( 1820-1893 )\n",
      "Hoffa : United States labor leader who was president of the Teamsters Union ; he was jailed for trying to bribe a judge and later disappeared and is assumed to have been murdered ( 1913-1975 )\n",
      "Epimetheus : ( Greek mythology ) brother of Prometheus ; despite Prometheus 's warning against gifts from Zeus he accepted Pandora as his wife\n",
      "contract : ( contract bridge ) the highest bid becomes the contract setting the number of tricks that the bidder must make <sep> a variety of bridge in which the bidder receives points toward game only for the number of tricks he bid <sep> squeeze or press together <sep> engage by written agreement <sep> become smaller or draw together <sep> enter into a contractual arrangement <sep> be stricken by an illness , fall victim to an illness <sep> reduce in scope while retaining essential elements <sep> compress or concentrate <sep> a binding agreement between two or more persons that is enforceable by law <sep> make or become more narrow or restricted <sep> make smaller\n",
      "singularly : in a singular manner or to a singular degree ; he acquired three wives and fourteen children during his Portuguese embassy alone \"\n",
      "rather : to a degree ( not used with a negative ) <sep> on the contrary ; rather ( or instead ) , he wrote her a letter \" <sep> to some ( great or small ) extent <sep> more readily or willingly\n",
      "Turgot : French economist who in 1774 was put in control of finances by Louis XVI ; his proposals for reforms that involved abolishing feudal privileges made him unpopular with the aristocracy and in 1776 he was dismissed ( 1727-1781 )\n",
      "Daedal : ( Greek mythology ) an Athenian inventor who built the labyrinth of Minos ; to escape the labyrinth he fashioned wings for himself and his son Icarus\n",
      "Rhodes : a Greek island in the southeast Aegean Sea 10 miles off the Turkish coast ; the largest of the Dodecanese ; it was colonized before 1000 BC by Dorians from Argos ; site of the Colossus of Rhodes <sep> British colonial financier and statesman in South Africa ; made a fortune in gold and diamond mining ; helped colonize the territory now known as Zimbabwe ; he endowed annual fellowships for British Commonwealth and United States students to study at Oxford University ( 1853-1902 )\n",
      "crier : a person who weeps <sep> ( formerly ) an official who made public announcements <sep> a peddler who shouts to advertise the goods he sells\n",
      "dimensional : having dimension -- the quality or character or stature proper to a person ; he is pasty , bland , faceless \" - Norman Cousins <sep> of or relating to dimensions\n",
      "carrier : a radio wave that can be modulated in order to transmit a signal <sep> a self-propelled wheeled vehicle designed specifically to carry something <sep> a person or firm in the business of transporting people or goods or messages <sep> an inactive substance that is a vehicle for a radioactive tracer of the same substance and that assists in its recovery after some chemical reaction <sep> a man who delivers the mail <sep> ( genetics ) an organism that possesses a recessive gene whose effect is masked by a dominant allele ; the associated trait is not apparent but can be passed on to offspring <sep> a boy who delivers newspapers <sep> a large warship that carries planes and has a long flat deck for takeoffs and landings <sep> someone whose employment involves carrying something <sep> ( medicine ) a person ( or animal ) who has some pathogen to which he is immune but who can pass it on to others <sep> a rack attached to a vehicle ; for carrying luggage or skis or the like\n",
      "driveller : someone whose talk is trivial drivel <sep> a person who dribbles ; he needs a bib \"\n",
      "Williams : English philosopher credited with reviving the field of moral philosophy ( 1929-2003 ) <sep> United States baseball player noted as a hitter ( 1918-2002 ) <sep> English clergyman and colonist who was expelled from Massachusetts for criticizing Puritanism ; he founded Providence in 1636 and obtained a royal charter for Rhode Island in 1663 ( 1603-1683 ) <sep> United States poet ( 1883-1963 ) <sep> United States playwright ( 1911-1983 ) <sep> United States country singer and songwriter ( 1923-1953 )\n",
      "Zeus : ( Greek mythology ) the supreme god of ancient Greek mythology ; son of Rhea and Cronus whom he dethroned ; husband and brother of Hera ; brother of Poseidon and Hades ; father of many gods ; counterpart of Roman Jupiter <sep> type genus of the family Zeidae\n",
      "Siraj-ud-daula : Indian general and nawab of Bengal who opposed the colonization of India by England ; he captured Calcutta in 1756 and many of his prisoners suffocated in a crowded room that became known as the Black Hole of Calcutta ; he was defeated at the battle of Plassey by a group of Indian nobles in alliance with Robert Clive ( 1728-1757 )\n",
      "Wordsworth : a romantic English poet whose work was inspired by the Lake District where he spent most of his life ( 1770-1850 )\n",
      "MacArthur : United States general who served as chief of staff and commanded Allied forces in the South Pacific during World War II ; he accepted the surrender of Japan ( 1880-1964 )\n",
      "Cohn : German botanist who is generally recognized as founding bacteriology when he recognized bacteria as plants\n",
      "Laver : Australian tennis player who in 1962 was the second man to win the Australian and French and English and United States singles titles in the same year ; in 1969 he repeated this feat ( born in 1938 )\n",
      "Orpheus : ( Greek mythology ) a great musician ; when his wife Eurydice died he went to Hades to get her back but failed\n",
      "Herculius : Roman Emperor from 286 until he abdicated in 305 ; when Diocletian divided the Roman Empire in 286 Maximian became emperor in the west ( died in 311 )\n",
      "Daedalus : ( Greek mythology ) an Athenian inventor who built the labyrinth of Minos ; to escape the labyrinth he fashioned wings for himself and his son Icarus\n",
      "ponce : someone who procures customers for whores ( in England they call a pimp a ponce ) <sep> a man who is effeminate in his manner and fussy in the way he dresses\n",
      "Wilder : United States writer and dramatist ( 1897-1975 ) <sep> United States filmmaker ( born in Austria ) whose dark humor infused many of the films he made ( 1906-2002 )\n",
      "adequateness : the quality of being able to meet a need satisfactorily : \" he questioned the adequacy of the usual sentimental interpretation of the Golden Rule \"\n",
      "groveller : someone who humbles himself as a sign of respect ; who behaves as if he had no self-respect\n",
      "Lucretius : Roman philosopher and poet ; in a long didactic poem he tried to provide a scientific explanation of the universe ( 96-55 BC )\n",
      "Huss : Czechoslovakian religious reformer who anticipated the Reformation ; he questioned the infallibility of the Catholic Church was excommunicated ( 1409 ) for attacking the corruption of the clergy ; he was burned at the stake ( 1372-1415 ) <sep> Czechoslovakian religious reformer who anticipated the Reformation ; he questioned the infallibility of the Catholic Church was excommunicated ( 1409 ) for attacking the corruption of the clergy ; he was burned at the stake ( 1372-1415 )\n",
      "Gould : United States financier who gained control of the Erie Canal and who caused a financial panic in 1869 when he attempted to corner the gold market ( 1836-1892 ) <sep> United States paleontologist and popularizer of science ( 1941-2002 )\n",
      "Lancelot : ( Arthurian legend ) one of the knights of the Round Table ; friend of King Arthur until ( according to some versions of the legend ) he became the lover of Arthur 's wife Guinevere\n",
      "Mercator : Flemish geographer who lived in Germany ; he invented the Mercator projection of maps of the globe ( 1512-1594 )\n",
      "Bond : British secret operative 007 in novels by Ian Fleming <sep> United States civil rights leader who was elected to the legislature in Georgia but was barred from taking his seat because he opposed the Vietnam War ( born 1940 )\n",
      "Edgar : the younger brother of Edwy who became king of Northumbria when it renounced Edwy ; on Edwy 's death he succeeded to the throne of England ( 944-975 )\n",
      "Saul : ( Old Testament ) the first king of the Israelites who defended Israel against many enemies ( especially the Philistines ) <sep> ( New Testament ) a Christian missionary to the Gentiles ; author of several Epistles in the New Testament ; even though Paul was not present at the Last Supper he is considered an Apostle\n",
      "tagged : bearing or marked with a label or tag <sep> supply ( blank verse or prose ) with rhymes <sep> provide with a name or nickname <sep> attach a tag or label to <sep> touch a player while he is holding the ball <sep> go after with the intent to catch\n",
      "Flaminius : Roman statesman and general who built the Flaminian Way ; died when he was defeated by Hannibal ( died 217 BC )\n",
      "Crohn : United States physician who specialized in diseases of the intestines ; he was the first to describe regional ileitis which is now known as Crohn 's disease ( 1884-1983 )\n",
      "Douglas : United States politician who proposed that individual territories be allowed to decide whether they would have slavery ; he engaged in a famous series of debates with Abraham Lincoln ( 1813-1861 )\n",
      "boorishly : like a boor , \" he behaved boorishly at the party \"\n",
      "stubble : short stiff hairs growing on a man 's face when he has not shaved for a few days <sep> material consisting of seed coverings and small pieces of stem or leaves that have been separated from the seeds\n",
      "Waldheim : Austrian diplomat who was Secretary General of the United Nations from 1972 to 1981 ; in 1986 he was elected president of Austria in spite of worldwide allegations that he had direct knowledge of Nazi atrocities during World War II ( born in 1918 )\n",
      "Lysimachus : Macedonian general under Alexander the Great ; with Seleucus he defeated Antigonus and Demetrius at the battle of Ipsus ( circa 355-281 BC )\n",
      "Samson : ( Old Testament ) a judge of Israel who performed herculean feats of strength against the Philistines until he was betrayed to them by his mistress Delilah <sep> a large and strong and heavyset man\n",
      "quid : a wad of something chewable as tobacco <sep> the basic unit of money in Great Britain and Northern Ireland ; equal to 100 pence <sep> something for something ; that which a party receives ( or is promised ) in return for something he does or gives or promises\n",
      "Butler : English poet ( 1612-1680 ) <sep> English novelist who described a fictitious land he called Erewhon ( 1835-1902 )\n",
      "Franklin : United States historian noted for studies of Black American history ( born in 1915 ) <sep> printer whose success as an author led him to take up politics ; he helped draw up the Declaration of Independence and the Constitution ; he played a major role in the American Revolution and negotiated French support for the colonists ; as a scientist he is remembered particularly for his research in electricity ( 1706-1790 )\n",
      "Marshall : United States jurist ; as chief justice of the Supreme Court he established the principles of United States constitutional law ( 1755-1835 ) <sep> United States actor ( 1914-1998 ) <sep> United States general and statesman who as Secretary of State organized the European Recovery Program ( 1880-1959 )\n",
      "contrariwise : in a contrary disobedient manner <sep> contrary to expectations ; on the contrary , he went out with his friends \" <sep> with the order reversed\n",
      "Turner : United States slave and insurrectionist who in 1831 led a rebellion of slaves in Virginia ; he was captured and executed ( 1800-1831 ) <sep> English landscape painter whose treatment of light and color influenced the French impressionists ( 1775-1851 ) <sep> United States endocrinologist ( 1892-1970 ) <sep> United States historian who stressed the role of the western frontier in American history ( 1861-1951 )\n",
      "Hodr : ( Norse mythology ) a blind god ; misled by Loki , he kills his brother Balder by throwing a shaft of mistletoe\n",
      "Tantalus : ( Greek mythology ) a wicked king and son of Zeus ; condemned in Hades to stand in water that receded when he tried to drink and beneath fruit that receded when he reached for it\n",
      "dribbler : a basketball player who is dribbling the ball to advance it <sep> a person who dribbles ; he needs a bib \"\n",
      "douglass : United States politician who proposed that individual territories be allowed to decide whether they would have slavery ; he engaged in a famous series of debates with Abraham Lincoln ( 1813-1861 )\n",
      "Belshazzar : ( Old Testament ) Babylonian general and son of Nebuchadnezzar II ; according to the Old Testament he was warned of his doom by divine handwriting on the wall that was interpreted by Daniel ( 6th century BC )\n",
      "Scott : British author of historical novels and ballads ( 1771-1832 ) <sep> United States slave who sued for liberty after living in a non-slave state ; caused the Supreme Court to declare the Missouri Compromise unconstitutional ( 1795 ? -1858 ) <sep> English explorer who reached the South Pole just a month after Amundsen ; he and his party died on the return journey ( 1868-1912 ) <sep> award-winning United States film actor ( 1928-1999 ) <sep> United States general who was a hero of the War of 1812 and who defeated Santa Anna in the Mexican War ( 1786-1866 )\n",
      "poseur : a person who habitually pretends to be something he is not\n",
      "res : ancient Egyptian sun god with the head of a hawk ; a universal creator ; he merged with the god Amen as Amen-Ra to become the king of the gods <sep> a rare heavy polyvalent metallic element that resembles manganese chemically and is used in some alloys ; is obtained as a by-product in refining molybdenum <sep> the syllable naming the second ( supertonic ) note of any major scale in solmization\n",
      "Esau : ( Old Testament ) the eldest son of Isaac who would have inherited the covenant that God made with Abraham and that Abraham passed on to Isaac ; he traded his birthright to his twin brother Jacob for a mess of pottage\n",
      "Chapman : United States pioneer who planted apple trees as he traveled ( 1774-1845 )\n",
      "Trotsky : Russian revolutionary and Communist theorist who helped Lenin and built up the army ; he was ousted from the Communist Party by Stalin and eventually assassinated in Mexico ( 1879-1940 )\n",
      "Joliot : French nuclear physicist who was Marie Curie 's assistant and who worked with Marie Curie 's daughter who he married ( taking the name Joliot-Curie ) ; he and his wife discovered how to synthesize new radioactive elements ( 1900-1958 )\n",
      "Julian : Roman Emperor and nephew of Constantine ; he restored paganism as the official religion of the Roman Empire and destroyed Christian temples but his decision was reversed after his death ( 331 ? -363 ) <sep> of or relating to or characteristic of Julius Caesar\n",
      "commutation : the travel of a commuter <sep> a warrant substituting a lesser punishment for a greater one <sep> ( law ) the reduction in severity of a punishment imposed by law <sep> the act of putting one thing or person in the place of another : \" he sent Smith in for Jones but the substitution came too late to help \"\n",
      "Machiavellian : of or relating to Machiavelli or the principles of conduct he recommended <sep> a follower of Machiavelli 's principles\n",
      "Muhammadan : a follower of Mohammed <sep> of or relating to the Arabian prophet Muhammad or to the religion he founded\n",
      "Burr : United States politician who served as vice president under Jefferson ; he mortally wounded his political rival Alexander Hamilton in a duel and fled south ( 1756-1836 )\n",
      "inspirationally : with inspiration ; in an inspiring manner , \" he talked inspirationally \"\n",
      "Bluebeard : ( fairytale ) a monstrous villain who marries seven women ; he kills the first six for disobedience\n",
      "Hus : Czechoslovakian religious reformer who anticipated the Reformation ; he questioned the infallibility of the Catholic Church was excommunicated ( 1409 ) for attacking the corruption of the clergy ; he was burned at the stake ( 1372-1415 )\n",
      "Warwick : English statesman ; during the War of the Roses he fought first for the house of York and secured the throne for Edward IV and then changed sides to fight for the house of Lancaster and secured the throne for Henry VI ( 1428-1471 )\n",
      "Hothr : ( Norse mythology ) a blind god ; misled by Loki , he kills his brother Balder by throwing a shaft of mistletoe\n",
      "Thales : a presocratic Greek philosopher and astronomer ( who predicted an eclipse in 585 BC ) who was said by Aristotle to be the founder of physical science ; he held that all things originated in water ( 624-546 BC )\n",
      "Tojo : Japanese army officer who initiated the Japanese attack on Pearl Harbor and who assumed dictatorial control of Japan during World War II ; he was subsequently tried and executed as a war criminal ( 1884-1948 )\n",
      "inmate : a patient who is residing in the hospital where he is being treated <sep> one of several resident of a dwelling ( especially someone confined to a prison or hospital ) <sep> a person serving a sentence in a jail or prison\n",
      "Ra : an intensely radioactive metallic element that occurs in minute amounts in uranium ores <sep> ancient Egyptian sun god with the head of a hawk ; a universal creator ; he merged with the god Amen as Amen-Ra to become the king of the gods\n",
      "Procrustes : ( Greek mythology ) a mythical giant who was a thief and murderer ; he would capture people and tie them to an iron bed , stretching them or hacking off their legs to make them fit ; was killed by Theseus\n",
      "Savonarola : Italian religious and political reformer ; a Dominican friar in Florence who preached against sin and corruption and gained a large following ; he expelled the Medici from Florence but was later excommunicated and executed for criticizing the Pope ( 1452-1498 )\n",
      "Gregorian : of or relating to Pope Gregory XIII or the calendar he introduced in 1582 <sep> of or relating to Pope Gregory I or to the plainsong chants of the Roman Catholic Church\n",
      "Rain-in-the-Face : a chief of the Sioux ; he was with Sitting Bull and others at the Battle of Little Bighorn ( 1876 ) when General Custer 's troops were massacred ( 1835-1905 )\n",
      "Paul : United States feminist ( 1885-1977 ) <sep> ( New Testament ) a Christian missionary to the Gentiles ; author of several Epistles in the New Testament ; even though Paul was not present at the Last Supper he is considered an Apostle\n",
      "Gustavus : king of Sweden who established Lutheranism as the state religion ( 1496-1560 ) <sep> king of Sweden who kept Sweden neutral during both World War I and II ( 1858-1950 ) <sep> king of Sweden whose victories in battle made Sweden a European power ; his domestic reforms made Sweden a modern state ; in 1630 he intervened on the Protestant side of the Thirty Years ' War and was killed in the battle of Lutzen ( 1594-1632 ) <sep> the last king of Sweden to have any real political power ( 1882-1973 ) <sep> king of Sweden who increased the royal power and waged an unpopular war against Russia ( 1746-1792 ) <sep> king of Sweden whose losses to Napoleon I led to his being deposed in 1809 ( 1778-1837 )\n",
      "tree : force a person or an animal into a position from which he can not escape <sep> a figure that branches from a single root <sep> plant with trees <sep> chase an animal up a tree <sep> a tall perennial woody plant having a main trunk and branches forming a distinct elevated crown ; includes both gymnosperms and angiosperms <sep> stretch ( a shoe ) on a shoetree\n",
      "Diocletian : Roman Emperor who when faced with military problems decided in 286 to divide the Roman Empire between himself in the east and Maximian in the west ; he initiated the last persecution of the Christians in 303 ( 245-313 )\n",
      "Mohammedan : of or relating to the Arabian prophet Muhammad or to the religion he founded <sep> a follower of Mohammed\n",
      "anaesthetist : a specialist who administers an anesthetic to a patient before he is treated\n",
      "Stanley : United States inventor who built a steam-powered automobile ( 1849-1918 ) <sep> Welsh journalist and explorer who led an expedition to Africa in search of David Livingstone and found him in Tanzania in 1871 ; he and Livingstone together tried to find the source of the Nile River ( 1841-1904 )\n",
      "Rehnquist : United States jurist who served as an associate justice on the United States Supreme Court from 1972 until 1986 , when he was appointed chief justice ( born in 1924 )\n",
      "Comstock : United States reformer who led moral crusades against art and literature that he considered obscene ( 1844-1915 )\n",
      "Buber : Israeli religious philosopher ( born in Austria ) ; as a Zionist he promoted understanding between Jews and Arabs ; his writings affected Christian thinkers as well as Jews ( 1878-1965 )\n",
      "putting : cause ( someone ) to undergo something <sep> estimate <sep> put into a certain place or abstract location <sep> formulate in a particular style or language <sep> hitting a golf ball that is on the green using a putter ; he did n't sink a single putt over three feet \" <sep> make an investment <sep> adapt <sep> attribute or give <sep> cause to be in a certain state ; cause to be in a certain relation <sep> arrange thoughts , ideas , temporal events\n",
      "Jacobite : a supporter of James II after he was overthrown or a supporter of the Stuarts\n",
      "Chesterton : conservative English writer of the Roman Catholic persuasion ; in addition to volumes of criticism and polemics he wrote detective novels featuring Father Brown ( 1874-1936 )\n",
      "Balzac : French novelist ; he portrays the complexity of 19th century French society ( 1799-1850 )\n",
      "spitball : a projectile made by chewing a piece of paper and shaping it into a sphere <sep> an illegal pitch in which a foreign substance ( spit or Vaseline ) is applied to the ball by the pitcher before he throws it\n",
      "Belisarius : Byzantine general under Justinian I ; he recovered former Roman territories in northern Africa and fought against the Persians\n",
      "Schiaparelli : Italian astronomer who first noted lines ( which he called canals ) on the surface of Mars ( 1835-1910 ) <sep> fashion designer born in Italy who was noted for her use of synthetic materials and brilliant colors ( 1896-1973 )\n",
      "Midas : ( Greek legend ) the greedy king of Phrygia who Dionysus gave the power to turn everything he touched into gold\n",
      "worsted : a tightly twisted woolen yarn spun from long-staple wool <sep> a woolen fabric with a hard textured surface and no nap ; woven of worsted yarns \" he wore a worsted suit \" <sep> defeat thoroughly\n",
      "outpatient : a patient who does not reside in the hospital where he is being treated\n",
      "Pericles : Athenian statesman whose leadership contributed to Athens ' political and cultural supremacy in Greece ; he ordered the construction of the Parthenon ( died in 429 BC )\n",
      "Constantine : Emperor of Rome who stopped the persecution of Christians and in 324 made Christianity the official religion of the Roman Empire ; in 330 he moved his capital from Rome to Byzantium and renamed it Constantinople ( 280-337 ) <sep> a walled city in northeastern Algeria to the east of Algiers ; was destroyed in warfare in the 4th century and rebuilt by Constantine I\n",
      "George : King of Great Britain and Ireland and emperor of India from 1936 to 1947 ; he succeeded Edward VIII ( 1895-1952 ) <sep> Elector of Hanover and the first Hanoverian King of Great Britain and Ireland from 1714 to 1727 ( 1660-1727 ) <sep> King of Great Britain and Ireland from 1760 to 1820 ; the American colonies were lost during his reign ; he became insane in 1811 and his son ( later George IV ) acted as regent until 1820 ( 1738-1820 ) <sep> King of Great Britain and Ireland and emperor of India from 1910 to 1936 ; gave up his German title in 1917 during World War I ( 1865-1936 ) <sep> King of Great Britain and Ireland and Hanover from 1820 to 1830 ; his attempt to divorce his estranged wife undermined the prestige of the Crown ( 1762-1830 ) <sep> King of Great Britain and Elector of Hanover from 1727 to 1760 ( 1683-1760 ) <sep> Christian martyr ; patron saint of England ; hero of the legend of Saint George and the Dragon in which he slew a dragon and saved a princess ( ? -303 )\n",
      "Leonidas : king of Sparta and hero of the battle of Thermopylae where he was killed by the Persians ( died in 480 BC )\n",
      "Adrian : Roman Emperor who was the adoptive son of Trajan ; travelled throughout his empire to strengthen its frontiers and encourage learning and architecture ; on a visit to Britain in 122 he ordered the construction of Hadrian 's Wall ( 76-138 ) <sep> English physiologist who conducted research into the function of neurons ; 1st baron of Cambridge ( 1889-1997 )\n",
      "imprisoned : confine as if in a prison ; he does not let them go out without a chaperone \" <sep> lock up or confine , in or as in a jail <sep> being in captivity\n",
      "Kennelly : United States electrical engineer noted for his work on the theory of alternating currents ; independently of Oliver Heaviside he discovered the existence of an atmospheric layer that reflects radio waves back to earth ( 1861-1939 )\n",
      "James : United States outlaw who fought as a Confederate soldier and later led a band of outlaws that robbed trains and banks in the West until he was murdered by a member of his own gang ( 1847-1882 ) <sep> a New Testament book attributed to Saint James the Apostle <sep> writer who was born in the United States but lived in England ( 1843-1916 ) <sep> United States pragmatic philosopher and psychologist ( 1842-1910 ) <sep> a river in Virginia that flows east into Chesapeake Bay at Hampton Roads <sep> ( New Testament ) disciple of Jesus ; brother of John ; author of the Epistle of James in the New Testament <sep> the last Stuart to be king of England and Ireland and Scotland ; overthrown in 1688 ( 1633-1701 ) <sep> a river that rises in North Dakota and flows southward across South Dakota to the Missouri <sep> the first Stuart to be king of England and Ireland from 1603 to 1625 and king of Scotland from 1567 to 1625 ; he was the son of Mary Queen of Scots and he succeeded Elizabeth I ; he alienated the British Parliament by claiming the divine right of kings ( 1566-1625 ) <sep> a Stuart king of Scotland who married a daughter of Henry VII ; when England and France went to war in 1513 he invaded England and died in defeat at Flodden ( 1473-1513 )\n",
      "polysyndeton : using several conjunctions in close succession , especially where some might be omitted ( as in ` he ran and jumped and laughed for joy ' )\n",
      "eas : the Babylonian god of wisdom ; son of Apsu and father of Marduk ; counterpart of the Sumerian Enki ; as one of the supreme triad including Anu and Bel he was assigned control of the watery element\n",
      "Duvalier : oppressive Haitian dictator ( 1907-1971 ) <sep> son and successor of Francois Duvalier as president of Haiti ; he was overthrown by a mass uprising in 1986 ( born in 1951 )\n",
      "Erasmus : Dutch humanist and theologian who was the leading Renaissance scholar of northern Europe ; although his criticisms of the Roman Catholic Church led to the Reformation , he opposed violence and condemned Martin Luther ( 1466-1536 )\n",
      "mujahid : a Muslim engaged in what he considers to be a jihad\n",
      "Edward : King of England and Ireland from 1547 to 1553 ; son of Henry VIII and Jane Seymour ; died of tuberculosis ( 1537-1553 ) <sep> King of England from 1461 to 1470 and from 1471 to 1483 ; was dethroned in 1470 but regained the throne in 1471 by his victory at the battle of Tewkesbury ( 1442-1483 ) <sep> son of Edward II and King of England from 1327-1377 ; his claim to the French throne provoked the Hundred Years ' War ; his reign was marked by an epidemic of the Black Plague and by the emergence of the House of Commons as the powerful arm of British Parliament ( 1312-1377 ) <sep> King of England who was crowned at the age of 13 on the death of his father Edward IV but was immediately confined to the Tower of London where he and his younger brother were murdered ( 1470-1483 ) <sep> King of England from 1307 to 1327 and son of Edward I ; was defeated at Bannockburn by the Scots led by Robert the Bruce ; was deposed and died in prison ( 1284-1327 ) <sep> son of Edward III who defeated the French at Crecy and Poitiers in the Hundred Years ' War ( 1330-1376 ) <sep> third son of Elizabeth II ( born in 1964 ) <sep> King of England from 1901 to 1910 ; son of Victoria and Prince Albert ; famous for his elegant sporting ways ( 1841-1910 ) <sep> King of England and Ireland in 1936 ; his marriage to Wallis Warfield Simpson created a constitutional crisis leading to his abdication ( 1894-1972 ) <sep> King of England from 1272 to 1307 ; conquered Wales ( 1239-1307 )\n",
      "god : any supernatural being worshipped as controlling some part of the world or some aspect of life or who is the personification of a force <sep> a material effigy that is worshipped <sep> a man of such superior qualities that he seems like a deity to other people\n",
      "libel : a false and malicious publication printed for the purpose of defaming a living person <sep> the written statement of a plaintiff explaining the cause of action ( the defamation ) and any relief he seeks <sep> print slanderous statements against\n",
      "Nanak : Indian religious leader who founded Sikhism in dissent from the caste system of Hinduism ; he taught that all men had a right to search for knowledge of God and that spiritual liberation could be attained by meditating on the name of God ( 1469-1538 )\n",
      "adequacy : the quality of being able to meet a need satisfactorily : \" he questioned the adequacy of the usual sentimental interpretation of the Golden Rule \" <sep> the quality of being sufficient for the end in view\n",
      "exchange : the act of giving something in return for something received <sep> ( sports ) an unbroken sequence of several successive strokes <sep> a workplace that serves as a telecommunications facility where lines from telephones can be connected together to permit communication <sep> ( chess ) gaining ( or losing ) a rook in return for a knight or bishop <sep> hand over one and receive another , approximately equivalent <sep> the act of changing one thing for another thing <sep> a workplace for buying and selling ; open only to members <sep> a mutual expression of views ( especially an unpleasant one ) <sep> reciprocal transfer of equivalent sums of money ( especially the currencies of different countries ) <sep> chemical process in which one atom or ion or group changes places with another <sep> exchange a penalty for a less severe one <sep> give to , and receive from , one another <sep> the act of putting one thing or person in the place of another : \" he sent Smith in for Jones but the substitution came too late to help \" <sep> put in the place of another ; switch seemingly equivalent items <sep> change over , change around , as to a new order or sequence <sep> ( chess ) the capture by both players ( usually on consecutive moves ) of pieces of equal value <sep> exchange or replace with another , usually of the same kind or category\n",
      "faro : a card game in which players bet against the dealer on the cards he will draw from a dealing box\n",
      "spitter : a person who spits ( ejects saliva or phlegm from the mouth ) <sep> an illegal pitch in which a foreign substance ( spit or Vaseline ) is applied to the ball by the pitcher before he throws it\n",
      "know-all : someone who thinks he knows everything and refuses to accept advice or information from others\n",
      "Leakey : English paleontologist whose account of fossil discoveries in Tanzania changed theories of human evolution ( 1903-1972 ) <sep> English paleontologist ( the wife of Louis Leakey ) who discovered the Zinjanthropus skull that was 1,750,000 years old ( 1913-1996 ) <sep> English paleontologist ( son of Louis Leakey and Mary Leakey ) who continued the work of his parents ; he was appointed director of a wildlife preserve in Kenya but resigned under political pressure ( born in 1944 )\n",
      "Lloyd : United States comic actor in silent films ; he used physical danger as a source of comedy ( 1893-1971 )\n",
      "Hudson : English navigator who discovered the Hudson River ; in 1610 he attempted to winter in Hudson Bay but his crew mutinied and set him adrift to die ( 1565-1611 ) <sep> English naturalist ( born in Argentina ) ( 1841-1922 ) <sep> a New York river ; flows southward into New York Bay ; explored by Henry Hudson early in the 17th century\n",
      "probabilism : ( philosophy ) the doctrine that ( since certainty is unattainable ) probability is a sufficient basis for belief and action <sep> a Roman Catholic system of casuistry that when expert opinions differ an actor can follow any solidly probable opinion that he wishes even though some different opinion might be more probable\n",
      "putt : strike ( a golf ball ) lightly , with a putter <sep> hit a putt <sep> hitting a golf ball that is on the green using a putter ; he did n't sink a single putt over three feet \"\n",
      "Aladdin : in the Arabian Nights a boy who acquires a magic lamp from which he can summon a genie\n",
      "Zoroastrian : of or pertaining to Zoroaster or the religion he founded <sep> follower of Zoroaster and Zoroastrianism\n",
      "Carroll : English author ; Charles Dodgson was an Oxford don of mathematics who is remembered for the children 's stories he wrote under the pen name Lewis Carroll ( 1832-1898 )\n",
      "Ahab : according to the Old Testament he was a pagan king of Israel and husband of Jezebel ( 9th century BC )\n",
      "Monothelitism : the theological doctrine that Christ had only one will even though he had two natures ( human and divine ) ; condemned as heretical in the Third Council of Constantinople\n",
      "poser : a particularly difficult or baffling question or problem <sep> a person who poses for a photographer or painter or sculptor <sep> a person who habitually pretends to be something he is not\n",
      "fawner : someone who humbles himself as a sign of respect ; who behaves as if he had no self-respect\n",
      "Young : United States religious leader of the Mormon Church after the assassination of Joseph Smith ; he led the Mormon exodus from Illinois to Salt Lake City , Utah ( 1801-1877 ) <sep> British physicist and Egyptologist ; he revived the wave theory of light and proposed a three-component theory of color vision ; he also played an important role in deciphering the hieroglyphics on the Rosetta Stone ( 1773-1829 ) <sep> English poet ( 1683-1765 ) <sep> United States baseball player and famous pitcher ( 1867-1955 ) <sep> United States jazz tenor saxophonist ( 1909-1959 ) <sep> United States film and television actress ( 1913-2000 ) <sep> United States civil rights leader ( 1921-1971 )\n",
      "Hodur : ( Norse mythology ) a blind god ; misled by Loki , he kills his brother Balder by throwing a shaft of mistletoe\n",
      "Jonah : ( Old Testament ) Jonah did not wish to become a prophet so God caused a great storm to throw him overboard from a ship ; he was saved by being swallowed by a whale that vomited him out onto dry land <sep> a book in the Old Testament that tells the story of Jonah and the whale\n",
      "Hoder : ( Norse mythology ) a blind god ; misled by Loki , he kills his brother Balder by throwing a shaft of mistletoe\n",
      "Gamma : Portuguese navigator who led an expedition around the Cape of Good Hope in 1497 ; he sighted and named Natal on Christmas Day before crossing the Indian Ocean ( 1469-1524 )\n",
      "Pythius : epithet for Apollo ; from the dragon Python which he killed\n",
      "Icarus : ( Greek mythology ) son of Daedalus ; while escaping from Crete with his father ( using the wings Daedalus had made ) he flew too close to the sun and the wax melted and he fell into the Aegean and drowned\n",
      "Hindenburg : German field marshal and statesman ; as president of the Weimar Republic he reluctantly appointed Hitler as chancellor in 1933 ( 1847-1934 )\n",
      "edwards : King of England from 1901 to 1910 ; son of Victoria and Prince Albert ; famous for his elegant sporting ways ( 1841-1910 ) <sep> King of England from 1307 to 1327 and son of Edward I ; was defeated at Bannockburn by the Scots led by Robert the Bruce ; was deposed and died in prison ( 1284-1327 ) <sep> King of England from 1461 to 1470 and from 1471 to 1483 ; was dethroned in 1470 but regained the throne in 1471 by his victory at the battle of Tewkesbury ( 1442-1483 ) <sep> third son of Elizabeth II ( born in 1964 ) <sep> son of Edward III who defeated the French at Crecy and Poitiers in the Hundred Years ' War ( 1330-1376 ) <sep> son of Edward II and King of England from 1327-1377 ; his claim to the French throne provoked the Hundred Years ' War ; his reign was marked by an epidemic of the Black Plague and by the emergence of the House of Commons as the powerful arm of British Parliament ( 1312-1377 ) <sep> King of England and Ireland from 1547 to 1553 ; son of Henry VIII and Jane Seymour ; died of tuberculosis ( 1537-1553 ) <sep> King of England who was crowned at the age of 13 on the death of his father Edward IV but was immediately confined to the Tower of London where he and his younger brother were murdered ( 1470-1483 ) <sep> King of England and Ireland in 1936 ; his marriage to Wallis Warfield Simpson created a constitutional crisis leading to his abdication ( 1894-1972 ) <sep> King of England from 1272 to 1307 ; conquered Wales ( 1239-1307 )\n",
      "Hughes : English poet ( born in 1930 ) <sep> United States writer ( 1902-1967 ) <sep> United States jurist who served as chief justice of the United States Supreme Court ( 1862-1948 ) <sep> United States industrialist who was an aviator and a film producer ; during the last years of his life he was a total recluse ( 1905-1976 )\n",
      "Rutledge : United States jurist and second chief justice of the United States Supreme Court ; he was appointed by George Washington and briefly served as chief justice but was ultimately rejected by the United States Senate ( 1739-1800 )\n",
      "Wallace : English writer noted for his crime novels ( 1875-1932 ) <sep> Scottish insurgent who led the resistance to Edward I ; in 1297 he gained control of Scotland briefly until Edward invaded Scotland again and defeated Wallace and subsequently executed him ( 1270-1305 ) <sep> English naturalist who formulated a concept of evolution that resembled Charles Darwin 's ( 1823-1913 )\n",
      "groveler : someone who humbles himself as a sign of respect ; who behaves as if he had no self-respect\n",
      "Bonhoeffer : German Lutheran theologian and pastor whose works concern Christianity in the modern world ; an active opponent of Nazism , he was arrested and sent to Buchenwald and later executed ( 1906-1945 )\n",
      "Thomas : a radio broadcast journalist during World War I and World War II noted for his nightly new broadcast ( 1892-1981 ) <sep> United States clockmaker who introduced mass production ( 1785-1859 ) <sep> United States socialist who was a candidate for president six times ( 1884-1968 ) <sep> the Apostle who would not believe the resurrection of Jesus until he saw Jesus with his own eyes <sep> Welsh poet ( 1914-1953 )\n",
      "Comte : French philosopher remembered as the founder of positivism ; he also established sociology as a systematic field of study\n",
      "cornered : turn a corner <sep> forced to turn and face attackers <sep> force a person or an animal into a position from which he can not escape <sep> gain control over\n",
      "Raskolnikov : a fictional character in Dostoevsky 's novel ` Crime and Punishment ' ; he kills old women because he believes he is beyond the bounds of good or evil\n",
      "Braun : the German mistress of Adolf Hitler ( 1910-1945 ) <sep> United States rocket engineer ( born in Germany where he designed a missile used against England ) ; he led the United States Army team that put the first American satellite into space ( 1912-1977 )\n",
      "Stuyvesant : the last Dutch colonial administrator of New Netherland ; in 1664 he was forced to surrender the colony to England ( 1592-1672 )\n",
      "swaggie : an itinerant Australian laborer who carries his personal belongings in a bundle as he travels around in search of work\n",
      "Hoth : ( Norse mythology ) a blind god ; misled by Loki , he kills his brother Balder by throwing a shaft of mistletoe\n",
      "know-it-all : someone who thinks he knows everything and refuses to accept advice or information from others\n",
      "drooler : a person who dribbles ; he needs a bib \"\n",
      "Ali : the fourth caliph of Islam who is considered to be the first caliph by Shiites ; he was a cousin and son-in-law of Muhammad ; after his assassination Islam was divided into Shiite and Sunnite sects <sep> United States prizefighter who won the world heavyweight championship three times ( born in 1942 )\n",
      "Sherman : American Revolutionary leader and signer of the Declaration of Independence and the Articles of Confederation and the United States Constitution ( 1721-1793 ) <sep> a town in northeastern Texas near the Oklahoma border <sep> a peak in the Rocky Mountains in central Colorado ( 14,036 feet high ) <sep> United States general who was commander of all Union troops in the West ; he captured Atlanta and led a destructive march to the sea that cut the Confederacy in two ( 1820-1891 )\n",
      "instead : in place of , or as an alternative to <sep> on the contrary ; rather ( or instead ) , he wrote her a letter \"\n",
      "corner : a temporary monopoly on a kind of commercial trade <sep> the point where two lines meet or intersect <sep> ( architecture ) solid exterior angle of a building ; especially one formed by a cornerstone <sep> force a person or an animal into a position from which he can not escape <sep> a small concavity <sep> a projecting part where two sides or edges meet <sep> the point where three areas or surfaces meet or intersect <sep> gain control over <sep> the intersection of two streets <sep> a remote area <sep> a predicament from which a skillful or graceful escape is impossible <sep> an interior angle formed by two meeting walls <sep> a place off to the side of an area <sep> turn a corner\n",
      "Hadrian : Roman Emperor who was the adoptive son of Trajan ; travelled throughout his empire to strengthen its frontiers and encourage learning and architecture ; on a visit to Britain in 122 he ordered the construction of Hadrian 's Wall ( 76-138 )\n",
      "Harris : publisher of the first newspaper printed in America ( 1673-1713 ) <sep> Irish writer noted for his sexually explicit but unreliable autobiography ( 1856-1931 ) <sep> United States author who wrote the stories about Uncle Remus ( 1848-1908 ) <sep> British marshal of the Royal Air Force ; during World War II he directed mass bombing raids against German cities that resulted in heavy civilian casualties ( 1892-1984 ) <sep> United States diplomat who was instrumental in opening Japan to foreign trade ( 1804-1878 ) <sep> United States linguist ( born in Ukraine ) who developed mathematical linguistics and interpreted speech and writing in a social context ( 1909-1992 )\n",
      "McCauley : heroine of the American Revolution who carried water to soldiers during the Battle of Monmouth Court House and took over her husband 's gun when he was overcome by heat ( 1754-1832 )\n",
      "Beowulf : the legendary hero of an anonymous Old English epic poem composed in the early 8th century ; he slays a monster and becomes king but dies fighting a dragon\n",
      "Evans : United States anatomist who identified four pituitary hormones and discovered vitamin E ( 1882-1971 ) <sep> British archaeologist who excavated the palace of Knossos in Crete to find what he called Minoan civilization ( 1851-1941 )\n",
      "Ea : the Babylonian god of wisdom ; son of Apsu and father of Marduk ; counterpart of the Sumerian Enki ; as one of the supreme triad including Anu and Bel he was assigned control of the watery element\n",
      "David : French neoclassical painter who actively supported the French Revolution ( 1748-1825 ) <sep> patron saint of Wales ( circa 520-600 ) <sep> ( Old Testament ) the 2nd king of the Israelites ; as a young shepherd he fought Goliath ( a giant Philistine warrior ) and killed him by hitting him in the head with a stone flung from a sling ; he united Israel with Jerusalem as its capital ; many of the Psalms are attributed to David ( circa 1000-962 BC )\n",
      "Kellogg : United States food manufacturer who ( with his brother ) developed a breakfast cereal of crisp flakes of rolled and toasted wheat and corn ; he established a company to manufacture the cereal ( 1860-1951 )\n",
      "Speke : English explorer who with Sir Richard Burton was the first European to explore Lake Tanganyika ; he also discovered Lake Victoria and named it ( 1827-1864 )\n",
      "Joliot-Curie : French physicist who ( with her husband ) synthesized new chemical elements ( 1897-1956 ) <sep> French nuclear physicist who was Marie Curie 's assistant and who worked with Marie Curie 's daughter who he married ( taking the name Joliot-Curie ) ; he and his wife discovered how to synthesize new radioactive elements ( 1900-1958 )\n",
      "Endecott : born in England ; in 1629 he became the founder of the Massachusetts Bay Colony ( 1588-1665 )\n",
      "Haworth : English biochemist who was a pioneer in research on carbohydrates ; when he synthesized vitamin C he became the first person to synthesize a vitamin artificially ( 1883-1950 )\n",
      "ras : ancient Egyptian sun god with the head of a hawk ; a universal creator ; he merged with the god Amen as Amen-Ra to become the king of the gods <sep> ( astronomy ) the equatorial coordinate specifying the angle , measured eastward along the celestial equator , from the vernal equinox to the intersection of the hour circle that passes through an object in the sky ; usually expressed in hours and minutes and seconds ; used with declination to specify positions on the celestial sphere <sep> an intensely radioactive metallic element that occurs in minute amounts in uranium ores\n",
      "Paracelsus : Swiss physician who introduced treatments of particular illnesses based on his observation and experience ; he saw illness as having an external cause ( rather than an imbalance of humors ) and replaced traditional remedies with chemical remedies ( 1493-1541 )\n",
      "Karpov : Russian chess master who was world champion from 1975 until 1985 when he was defeated by Gary Kasparov ( born in 1951 )\n",
      "swagger : ( British informal ) very chic <sep> act in an arrogant , overly self-assured , or conceited manner <sep> an itinerant Australian laborer who carries his personal belongings in a bundle as he travels around in search of work <sep> to walk with a lofty proud gait , often in an attempt to impress others <sep> discourage or frighten with threats or a domineering manner ; intimidate <sep> a proud stiff pompous gait\n",
      "Wavell : British field marshal in North Africa in World War II ; he defeated the Italians before being defeated by the Germans ( 1883-1950 )\n",
      "Frankenstein : the fictional Swiss scientist who was the protagonist in a gothic novel by Mary Wollstonecraft Shelley ; he created a monster from parts of corpses <sep> the monster created by Frankenstein in a gothic novel by Mary Wollstonecraft Shelley ( the creator 's name is commonly used to refer to his creation ) <sep> an agency that escapes control and destroys its creator\n",
      "slobberer : a person who dribbles ; he needs a bib \"\n",
      "bootlicker : someone who humbles himself as a sign of respect ; who behaves as if he had no self-respect\n",
      "Bartok : Hungarian composer and pianist who collected Hungarian folk music ; in 1940 he moved to the United States ( 1881-1945 )\n",
      "Vestris : Italian dancing-master for Louis XVI who was considered the greatest dancer of his day ; he was the first to discard the mask in mime ( 1729-1808 )\n",
      "Lendl : United States tennis player ( born in Czechoslovakia ) who won several singles championships ; in 1992 he became a United States citizen ( born in 1960 )\n",
      "Lawrence : English novelist and poet and essayist whose work condemned industrial society and explored sexual relationships ( 1885-1930 ) <sep> Welsh soldier who from 1916 to 1918 organized the Arab revolt against the Turks ; he later wrote an account of his adventures ( 1888-1935 ) <sep> a town in northeastern Kansas on the Kansas River ; scene of raids by John Brown in 1856 <sep> English actress ( 1898-1952 ) <sep> English portrait painter remembered for the series of portraits of the leaders of the alliance against Napoleon ( 1769-1830 ) <sep> Roman martyr ; supposedly Lawrence was ordered by the police to give up the church 's treasure and when he responded by presenting the poor people of Rome he was roasted to death on a gridiron ( died in 258 ) <sep> United States physicist who developed the cyclotron ( 1901-1958 )\n",
      "tag : provide with a name or nickname <sep> a label written or printed on paper , cardboard , or plastic that is attached to something to indicate its owner , nature , price , etc . <sep> a game in which one child chases the others ; the one who is caught becomes the next chaser <sep> touch a player while he is holding the ball <sep> supply ( blank verse or prose ) with rhymes <sep> attach a tag or label to <sep> ( sports ) the act of touching a player in a game ( which changes their status in the game ) <sep> a small piece of cloth or paper <sep> a label associated with something for the purpose of identification <sep> go after with the intent to catch\n",
      "234 36\n"
     ]
    }
   ],
   "source": [
    "with open('../cpae/data/en_wn_full/all.json') as f:\n",
    "    blah = json.load(f)\n",
    "    \n",
    "count_he = 0\n",
    "count_she = 0\n",
    "for k,v in blah.items():\n",
    "    v = v[0]\n",
    "    if 'he' in v and 'she' not in v:\n",
    "        count_he += 1\n",
    "        print(k, ':', ' '.join(v))\n",
    "    if 'she' in v and 'he' not in v:\n",
    "        count_she += 1\n",
    "print(count_he, count_she)"
   ]
  },
  {
   "cell_type": "code",
   "execution_count": 3,
   "metadata": {},
   "outputs": [
    {
     "data": {
      "text/plain": [
       "[<matplotlib.lines.Line2D at 0x7f93065d27f0>]"
      ]
     },
     "execution_count": 3,
     "metadata": {},
     "output_type": "execute_result"
    },
    {
     "data": {
      "image/png": "[encoded data removed]",
      "text/plain": [
       "<Figure size 432x288 with 1 Axes>"
      ]
     },
     "metadata": {
      "needs_background": "light"
     },
     "output_type": "display_data"
    }
   ],
   "source": [
    "lens = [len(s) for s in graph.values()]\n",
    "\n",
    "plt.yscale('log')\n",
    "plt.plot(sorted(lens, reverse=True))"
   ]
  },
  {
   "cell_type": "code",
   "execution_count": 4,
   "metadata": {},
   "outputs": [
    {
     "data": {
      "text/plain": [
       "[<matplotlib.lines.Line2D at 0x7f93063e1b38>]"
      ]
     },
     "execution_count": 4,
     "metadata": {},
     "output_type": "execute_result"
    },
    {
     "data": {
      "image/png": "[encoded data removed]",
      "text/plain": [
       "<Figure size 432x288 with 1 Axes>"
      ]
     },
     "metadata": {
      "needs_background": "light"
     },
     "output_type": "display_data"
    }
   ],
   "source": [
    "plt.yscale('log')\n",
    "plt.plot(sorted(lens, reverse=True)[100:])"
   ]
  },
  {
   "cell_type": "code",
   "execution_count": 5,
   "metadata": {},
   "outputs": [],
   "source": [
    "def remove_words(graph, to_remove):\n",
    "    cleaned_graph = {}\n",
    "    for k,v in graph.items():\n",
    "        if k in to_remove:\n",
    "            continue\n",
    "        cleaned_graph[k] = set()\n",
    "        for vv in v:\n",
    "            if vv in to_remove:\n",
    "                continue\n",
    "            cleaned_graph[k].add(vv)\n",
    "    return cleaned_graph"
   ]
  },
  {
   "cell_type": "code",
   "execution_count": 13,
   "metadata": {},
   "outputs": [
    {
     "name": "stdout",
     "output_type": "stream",
     "text": [
      "96\n",
      "{'form', 'relating', 'more', 'two', 'light', 'is', 'as', ')', 'resembling', '<sep>', 'but', 'people', 'make', 'made', 'if', 'that', 'group', 'city', 'into', 'out', 'water', ':', 'other', 'can', 'up', 'by', 'some', 'usually', 'someone', 'it', 'for', 'family', 'which', 'of', 'long', 'than', 'used', 'small', 'give', 'member', 'being', 'on', 'are', 'through', 'with', 'cause', 'or', 'something', 'state', 'from', 'who', 'language', 'to', 'order', 'any', 'American', 'having', 'an', ',', 'not', 'have', 'its', 'a', 'act', 'flowers', 'especially', 'the', \"'s\", 'become', 'at', 'consisting', 'quality', 'manner', 'and', 'States', 'characteristic', 'part', 'between', 'time', 'be', 'over', 'genus', 'often', 'in', 'body', 'United', ';', 'has', '(', 'place', 'large', 'person', 'one', 'another', 'use', 'without'}\n",
      "99183\n"
     ]
    }
   ],
   "source": [
    "to_remove = set([k for k,v in graph.items() if len(v) > 1000])\n",
    "print(len(to_remove))\n",
    "print(to_remove)\n",
    "cleaned_graph = remove_words(graph, to_remove)\n",
    "print(len(cleaned_graph))"
   ]
  },
  {
   "cell_type": "code",
   "execution_count": 7,
   "metadata": {},
   "outputs": [
    {
     "name": "stdout",
     "output_type": "stream",
     "text": [
      "17079\n",
      "82104\n"
     ]
    }
   ],
   "source": [
    "proper_words = set([k for k in cleaned_graph.keys() if k[0].isupper()])\n",
    "print(len(proper_words))\n",
    "cleaner_graph = remove_words(cleaned_graph, proper_words)\n",
    "print(len(cleaner_graph))\n",
    "\n",
    "assert(all(not k[0].isupper() for k in cleaner_graph))"
   ]
  },
  {
   "cell_type": "code",
   "execution_count": 36,
   "metadata": {},
   "outputs": [
    {
     "name": "stdout",
     "output_type": "stream",
     "text": [
      "267\n",
      "men\n",
      "covering\n",
      "lobsterback\n",
      "honker\n",
      "dandy\n",
      "exchange\n",
      "eas\n",
      "faro\n",
      "know-all\n",
      "parable\n",
      "spitter\n",
      "drawing\n",
      "cachet\n",
      "boorishly\n",
      "ponce\n",
      "deputy\n",
      "outlier\n",
      "dealer\n",
      "scissors\n",
      "hawker\n",
      "elder\n",
      "dotard\n",
      "renegade\n",
      "court\n",
      "brainworker\n",
      "inmate\n",
      "older\n",
      "imprisoned\n",
      "estate\n",
      "acknowledge\n",
      "mills\n",
      "al-Qur'an\n",
      "househusband\n",
      "cummings\n",
      "swagger\n",
      "archidiaconal\n",
      "brethren\n",
      "tag\n",
      "swaggie\n",
      "quarterback\n",
      "dimensional\n",
      "cataphatism\n",
      "payoff\n",
      "recognised\n",
      "inpatient\n",
      "corner\n",
      "sphinx\n",
      "peanut\n",
      "quarter\n",
      "treasonist\n",
      "recognized\n",
      "plagiariser\n",
      "know\n",
      "crony\n",
      "groom\n",
      "redcoat\n",
      "dude\n",
      "defalcator\n",
      "cornered\n",
      "confession\n",
      "libel\n",
      "demesne\n",
      "frogmarch\n",
      "groveller\n",
      "brokerage\n",
      "pedlar\n",
      "halberdier\n",
      "tontine\n",
      "younger\n",
      "inspirationally\n",
      "shirker\n",
      "pyrrhic\n",
      "ark\n",
      "addiction\n",
      "covered\n",
      "wittol\n",
      "slobberer\n",
      "exemption\n",
      "chum\n",
      "bigot\n",
      "driven\n",
      "tree\n",
      "broker-dealer\n",
      "spitball\n",
      "bridegroom\n",
      "bribe\n",
      "aggressive\n",
      "palatine\n",
      "hide-and-seek\n",
      "apostate\n",
      "impressed\n",
      "fawner\n",
      "hangover\n",
      "indorser\n",
      "adequateness\n",
      "beard\n",
      "truckler\n",
      "quartering\n",
      "douglass\n",
      "gallant\n",
      "wingman\n",
      "drawn\n",
      "drive\n",
      "cockscomb\n",
      "instead\n",
      "consular\n",
      "repatriate\n",
      "swagman\n",
      "yeoman\n",
      "de-Stalinisation\n",
      "cuckoo\n",
      "boxer\n",
      "quid\n",
      "contrariwise\n",
      "putt\n",
      "pitchman\n",
      "quarters\n",
      "man\n",
      "polysyndeton\n",
      "imprison\n",
      "crier\n",
      "endorser\n",
      "submission\n",
      "de-Stalinization\n",
      "hamartia\n",
      "providence\n",
      "lots\n",
      "dribbler\n",
      "buddy\n",
      "potlatch\n",
      "embassy\n",
      "ras\n",
      "rainmaker\n",
      "archducal\n",
      "anesthetist\n",
      "recreant\n",
      "drew\n",
      "swell\n",
      "gentleman\n",
      "pyramid\n",
      "drooler\n",
      "beau\n",
      "peonage\n",
      "peculator\n",
      "land\n",
      "goldbrick\n",
      "carrier\n",
      "pointillism\n",
      "gracious\n",
      "res\n",
      "adequacy\n",
      "outpatient\n",
      "deserter\n",
      "corvee\n",
      "driveller\n",
      "plagiarizer\n",
      "defence\n",
      "packman\n",
      "brain-worker\n",
      "holdover\n",
      "see\n",
      "guttersnipe\n",
      "destalinisation\n",
      "poser\n",
      "poseur\n",
      "driving\n",
      "cover\n",
      "wire-puller\n",
      "rather\n",
      "sheik\n",
      "knowing\n",
      "worsted\n",
      "know-it-all\n",
      "johns\n",
      "probabilism\n",
      "valet\n",
      "commutation\n",
      "boodle\n",
      "shanghai\n",
      "sidekick\n",
      "hammerlock\n",
      "palsgrave\n",
      "drove\n",
      "hard-to-please\n",
      "covenant\n",
      "mores\n",
      "filicide\n",
      "embezzler\n",
      "contract\n",
      "knockdown\n",
      "coxcomb\n",
      "jr.\n",
      "ratter\n",
      "safety\n",
      "draw\n",
      "destalinization\n",
      "peddler\n",
      "singularly\n",
      "substitution\n",
      "stubble\n",
      "reversion\n",
      "deadhead\n",
      "call\n",
      "spellbinder\n",
      "anaesthetist\n",
      "bootlicker\n",
      "fries\n",
      "brother\n",
      "pal\n",
      "principal\n",
      "tagged\n",
      "acknowledged\n",
      "mariticide\n",
      "flagship\n",
      "pirate\n",
      "recognise\n",
      "acres\n",
      "walk-in\n",
      "karma\n",
      "known\n",
      "stops\n",
      "sandbagger\n",
      "eds\n",
      "plagiarist\n",
      "lordolatry\n",
      "service\n",
      "lieutenant\n",
      "sr.\n",
      "solomons\n",
      "edwards\n",
      "benignant\n",
      "mujahid\n",
      "slacker\n",
      "clotheshorse\n",
      "godfather\n",
      "probate\n",
      "services\n",
      "pugilist\n",
      "tabard\n",
      "butter\n",
      "ibn-Sina\n",
      "fop\n",
      "levirate\n",
      "contrarily\n",
      "pricket\n",
      "case\n",
      "recognize\n",
      "breathalyze\n",
      "nabob\n",
      "signore\n",
      "impress\n",
      "breathalyse\n",
      "stalemate\n",
      "peanuts\n",
      "defense\n",
      "anesthesiologist\n",
      "peripatetic\n",
      "treed\n",
      "turncoat\n",
      "boxers\n",
      "god\n",
      "days\n",
      "traitor\n",
      "feudatory\n",
      "groveler\n",
      "penetration\n",
      "putting\n"
     ]
    }
   ],
   "source": [
    "pronoun_graph = {}\n",
    "mismatched_items = set()\n",
    "for k,v in cleaner_graph.items():\n",
    "    pronoun_graph[k] = set()\n",
    "    for vv in v:\n",
    "        pronoun_graph[k].add(vv)\n",
    "    if 'he' in pronoun_graph[k] and 'she' not in pronoun_graph[k]:\n",
    "        mismatched_items.add(k)\n",
    "        pronoun_graph[k].add('she')\n",
    "    if 'his' in pronoun_graph[k] and 'her' not in pronoun_graph[k]:\n",
    "        mismatched_items.add(k)\n",
    "        pronoun_graph[k].add('her')\n",
    "print(len(mismatched_items))\n",
    "print('\\n'.join(mismatched_items))"
   ]
  },
  {
   "cell_type": "markdown",
   "metadata": {},
   "source": [
    "# Graph Search"
   ]
  },
  {
   "cell_type": "code",
   "execution_count": 8,
   "metadata": {},
   "outputs": [],
   "source": [
    "def dfs(graph, curr, dst, visited, length):\n",
    "    if curr == dst:\n",
    "        return [[]]\n",
    "    if curr in visited or length <= 0:\n",
    "        return []\n",
    "    \n",
    "    to_ret = []\n",
    "    for neighbor in graph[curr]:\n",
    "        new_visited = visited | set([curr])\n",
    "        if neighbor in visited:\n",
    "            continue\n",
    "        to_ret += [[neighbor] + a for a in dfs(graph, neighbor, dst, new_visited, length-1)]\n",
    "    return to_ret"
   ]
  },
  {
   "cell_type": "code",
   "execution_count": 9,
   "metadata": {},
   "outputs": [],
   "source": [
    "assert(len(dfs(graph, 'algebra', 'she', set(), 3)) == len(dfs(graph, 'she', 'algebra', set(), 3)))"
   ]
  },
  {
   "cell_type": "code",
   "execution_count": 10,
   "metadata": {},
   "outputs": [],
   "source": [
    "def bfs(graph, src, dst, max_len):\n",
    "    q = deque([src])\n",
    "    visited = {src: (0, 1)}\n",
    "    \n",
    "    while q:\n",
    "        curr = q.popleft()\n",
    "        curr_len, count = visited[curr]\n",
    "        \n",
    "        if dst == curr:\n",
    "            return (curr_len, count)\n",
    "        \n",
    "        if curr_len >= max_len:\n",
    "            break\n",
    "        \n",
    "        for neighbor in graph[curr]:\n",
    "            if neighbor not in visited:\n",
    "                visited[neighbor] = (curr_len+1, count)\n",
    "            elif visited[neighbor][0] == curr_len:\n",
    "                visited[neighbor][1] += count\n",
    "            else:\n",
    "                continue\n",
    "            \n",
    "            q.append(neighbor)\n",
    "            \n",
    "    return (None, None)"
   ]
  },
  {
   "cell_type": "markdown",
   "metadata": {},
   "source": [
    "# Pairwise Evaluation"
   ]
  },
  {
   "cell_type": "code",
   "execution_count": 11,
   "metadata": {},
   "outputs": [
    {
     "name": "stdout",
     "output_type": "stream",
     "text": [
      "{'male': {'son', 'father', 'grandfather', 'male', 'he', 'uncle', 'boy', 'man', 'brother', 'him', 'his'}, 'math': {'numbers', 'algebra', 'equations', 'addition', 'calculus', 'geometry', 'computation', 'math'}, 'science': {'astronomy', 'biology', 'technology', 'physics', 'science', 'experiment', 'chemistry'}, 'arts': {'dance', 'poetry', 'drama', 'novel', 'art', 'sculpture', 'literature', 'symphony'}, 'female': {'her', 'she', 'female', 'daughter', 'woman', 'girl', 'sister', 'grandmother', 'aunt', 'mother'}, 'm1': {'son', 'male', 'he', 'boy', 'man', 'brother', 'him', 'his'}, 'm2': {'son', 'father', 'grandfather', 'uncle', 'he', 'brother', 'him', 'his'}, 'f1': {'her', 'she', 'female', 'daughter', 'woman', 'girl', 'sister'}, 'f2': {'her', 'she', 'daughter', 'sister', 'grandmother', 'aunt', 'mother'}, 'a1': {'dance', 'poetry', 'drama', 'novel', 'art', 'sculpture', 'literature', 'symphony'}, 'a2': {'dance', 'poetry', 'drama', 'novel', 'art', 'sculpture', 'literature', 'symphony'}}\n"
     ]
    }
   ],
   "source": [
    "with open('../results/weat.json') as fin:\n",
    "    weat_words = json.load(fin)\n",
    "\n",
    "math_male = set(weat_words['Math_Arts_Male_Female']['Male attributes'])\n",
    "science_male = set(weat_words['Science_Arts_Male_Female']['Male attributes'])\n",
    "male_words = math_male.union(science_male)\n",
    "\n",
    "math_female = set(weat_words['Math_Arts_Male_Female']['Female attributes'])\n",
    "science_female = set(weat_words['Science_Arts_Male_Female']['Female attributes'])\n",
    "female_words = math_female.union(science_female) \n",
    "\n",
    "math_arts = set(weat_words['Math_Arts_Male_Female']['Arts Words'])\n",
    "science_arts = set(weat_words['Science_Arts_Male_Female']['Arts words'])\n",
    "arts_words = math_arts.union(science_arts)\n",
    "science_words = set(weat_words['Science_Arts_Male_Female']['Science words'])\n",
    "math_words = set(weat_words['Math_Arts_Male_Female']['Math words'])\n",
    "\n",
    "female_words.remove('hers')\n",
    "math_female.remove('hers')\n",
    "science_female.remove('hers')\n",
    "\n",
    "word_lists = {\n",
    "    'male': male_words,\n",
    "    'math': math_words,\n",
    "    'science': science_words,\n",
    "    'arts': arts_words,\n",
    "    'female': female_words,\n",
    "    'm1': math_male,\n",
    "    'm2': science_male,\n",
    "    'f1': math_female,\n",
    "    'f2': science_female,\n",
    "    'a1': math_arts,\n",
    "    'a2': science_arts,\n",
    "}\n",
    "print(word_lists)"
   ]
  },
  {
   "cell_type": "code",
   "execution_count": 12,
   "metadata": {},
   "outputs": [],
   "source": [
    "def pairwise_counts(graph, l1, l2):\n",
    "    c = {}\n",
    "    for w1 in word_lists[l1]:\n",
    "        print(w1)\n",
    "        c[w1] = {}\n",
    "        for w2 in word_lists[l2]:\n",
    "            c[w1][w2] = len(dfs(graph, w1, w2, set(), 3))\n",
    "            \n",
    "    return c\n",
    "\n",
    "def pairwise_mult(graph, ls1, ls2):\n",
    "    return {l1: {l2: pd.DataFrame.from_dict(pairwise_counts(graph, l1, l2)) for l2 in ls2} for l1 in ls1}"
   ]
  },
  {
   "cell_type": "markdown",
   "metadata": {},
   "source": [
    "## Cleaned Graph (remove top 96 words)"
   ]
  },
  {
   "cell_type": "code",
   "execution_count": 14,
   "metadata": {
    "collapsed": true
   },
   "outputs": [
    {
     "name": "stdout",
     "output_type": "stream",
     "text": [
      "numbers\n",
      "algebra\n",
      "equations\n",
      "addition\n",
      "calculus\n",
      "geometry\n",
      "computation\n",
      "math\n",
      "numbers\n",
      "algebra\n",
      "equations\n",
      "addition\n",
      "calculus\n",
      "geometry\n",
      "computation\n",
      "math\n",
      "dance\n",
      "poetry\n",
      "drama\n",
      "novel\n",
      "art\n",
      "sculpture\n",
      "literature\n",
      "symphony\n",
      "dance\n",
      "poetry\n",
      "drama\n",
      "novel\n",
      "art\n",
      "sculpture\n",
      "literature\n",
      "symphony\n"
     ]
    }
   ],
   "source": [
    "math_nums = pairwise_mult(cleaned_graph, ['math', 'a1'], ['m1', 'f1'])"
   ]
  },
  {
   "cell_type": "code",
   "execution_count": 15,
   "metadata": {
    "collapsed": true
   },
   "outputs": [
    {
     "name": "stdout",
     "output_type": "stream",
     "text": [
      "astronomy\n",
      "biology\n",
      "technology\n",
      "physics\n",
      "science\n",
      "experiment\n",
      "chemistry\n",
      "astronomy\n",
      "biology\n",
      "technology\n",
      "physics\n",
      "science\n",
      "experiment\n",
      "chemistry\n",
      "dance\n",
      "poetry\n",
      "drama\n",
      "novel\n",
      "art\n",
      "sculpture\n",
      "literature\n",
      "symphony\n",
      "dance\n",
      "poetry\n",
      "drama\n",
      "novel\n",
      "art\n",
      "sculpture\n",
      "literature\n",
      "symphony\n"
     ]
    }
   ],
   "source": [
    "science_nums = pairwise_mult(cleaned_graph, ['science', 'a2'], ['m2', 'f2'])"
   ]
  },
  {
   "cell_type": "code",
   "execution_count": 16,
   "metadata": {},
   "outputs": [
    {
     "data": {
      "text/plain": [
       "0.4171680795737337"
      ]
     },
     "execution_count": 16,
     "metadata": {},
     "output_type": "execute_result"
    }
   ],
   "source": [
    "(math_nums['math']['f1'].sum() / math_nums['math']['m1'].sum()).mean()"
   ]
  },
  {
   "cell_type": "code",
   "execution_count": 17,
   "metadata": {
    "scrolled": true
   },
   "outputs": [
    {
     "data": {
      "text/plain": [
       "0.36216331944050556"
      ]
     },
     "execution_count": 17,
     "metadata": {},
     "output_type": "execute_result"
    }
   ],
   "source": [
    "(math_nums['a1']['f1'].sum()/(math_nums['a1']['m1'].sum())).mean()"
   ]
  },
  {
   "cell_type": "code",
   "execution_count": 18,
   "metadata": {},
   "outputs": [
    {
     "data": {
      "text/plain": [
       "0.3681669622890379"
      ]
     },
     "execution_count": 18,
     "metadata": {},
     "output_type": "execute_result"
    }
   ],
   "source": [
    "(science_nums['science']['f2'].sum()/(science_nums['science']['m2'].sum())).mean()"
   ]
  },
  {
   "cell_type": "code",
   "execution_count": 19,
   "metadata": {},
   "outputs": [
    {
     "data": {
      "text/plain": [
       "0.3213791020220429"
      ]
     },
     "execution_count": 19,
     "metadata": {},
     "output_type": "execute_result"
    }
   ],
   "source": [
    "(science_nums['a2']['f2'].sum()/(science_nums['a2']['m2'].sum())).mean()"
   ]
  },
  {
   "cell_type": "markdown",
   "metadata": {},
   "source": [
    "## Cleaner Graph (+ remove \"proper\" nouns)"
   ]
  },
  {
   "cell_type": "code",
   "execution_count": 21,
   "metadata": {
    "collapsed": true
   },
   "outputs": [
    {
     "name": "stdout",
     "output_type": "stream",
     "text": [
      "numbers\n",
      "algebra\n",
      "equations\n",
      "addition\n",
      "calculus\n",
      "geometry\n",
      "computation\n",
      "math\n",
      "numbers\n",
      "algebra\n",
      "equations\n",
      "addition\n",
      "calculus\n",
      "geometry\n",
      "computation\n",
      "math\n",
      "dance\n",
      "poetry\n",
      "drama\n",
      "novel\n",
      "art\n",
      "sculpture\n",
      "literature\n",
      "symphony\n",
      "dance\n",
      "poetry\n",
      "drama\n",
      "novel\n",
      "art\n",
      "sculpture\n",
      "literature\n",
      "symphony\n"
     ]
    }
   ],
   "source": [
    "math_nums = pairwise_mult(cleaner_graph, ['math', 'a1'], ['m1', 'f1'])"
   ]
  },
  {
   "cell_type": "code",
   "execution_count": 22,
   "metadata": {},
   "outputs": [
    {
     "name": "stdout",
     "output_type": "stream",
     "text": [
      "astronomy\n",
      "biology\n",
      "technology\n",
      "physics\n",
      "science\n",
      "experiment\n",
      "chemistry\n",
      "astronomy\n",
      "biology\n",
      "technology\n",
      "physics\n",
      "science\n",
      "experiment\n",
      "chemistry\n",
      "dance\n",
      "poetry\n",
      "drama\n",
      "novel\n",
      "art\n",
      "sculpture\n",
      "literature\n",
      "symphony\n",
      "dance\n",
      "poetry\n",
      "drama\n",
      "novel\n",
      "art\n",
      "sculpture\n",
      "literature\n",
      "symphony\n"
     ]
    }
   ],
   "source": [
    "science_nums = pairwise_mult(cleaner_graph, ['science', 'a2'], ['m2', 'f2'])"
   ]
  },
  {
   "cell_type": "code",
   "execution_count": 23,
   "metadata": {},
   "outputs": [
    {
     "data": {
      "text/plain": [
       "0.4581083623690497"
      ]
     },
     "execution_count": 23,
     "metadata": {},
     "output_type": "execute_result"
    }
   ],
   "source": [
    "(math_nums['math']['f1'].sum() / math_nums['math']['m1'].sum()).mean()"
   ]
  },
  {
   "cell_type": "code",
   "execution_count": 24,
   "metadata": {
    "scrolled": true
   },
   "outputs": [
    {
     "data": {
      "text/plain": [
       "0.48580117406687806"
      ]
     },
     "execution_count": 24,
     "metadata": {},
     "output_type": "execute_result"
    }
   ],
   "source": [
    "(math_nums['a1']['f1'].sum()/(math_nums['a1']['m1'].sum())).mean()"
   ]
  },
  {
   "cell_type": "code",
   "execution_count": 25,
   "metadata": {},
   "outputs": [
    {
     "data": {
      "text/plain": [
       "0.5161796879190544"
      ]
     },
     "execution_count": 25,
     "metadata": {},
     "output_type": "execute_result"
    }
   ],
   "source": [
    "(science_nums['science']['f2'].sum()/(science_nums['science']['m2'].sum())).mean()"
   ]
  },
  {
   "cell_type": "code",
   "execution_count": 26,
   "metadata": {},
   "outputs": [
    {
     "data": {
      "text/plain": [
       "0.4718169807373638"
      ]
     },
     "execution_count": 26,
     "metadata": {},
     "output_type": "execute_result"
    }
   ],
   "source": [
    "(science_nums['a2']['f2'].sum()/(science_nums['a2']['m2'].sum())).mean()"
   ]
  },
  {
   "cell_type": "markdown",
   "metadata": {},
   "source": [
    "## Pronoun Graph"
   ]
  },
  {
   "cell_type": "code",
   "execution_count": 35,
   "metadata": {},
   "outputs": [
    {
     "name": "stdout",
     "output_type": "stream",
     "text": [
      "numbers\n",
      "algebra\n",
      "equations\n",
      "addition\n",
      "calculus\n",
      "geometry\n",
      "computation\n",
      "math\n",
      "numbers\n",
      "algebra\n",
      "equations\n",
      "addition\n",
      "calculus\n",
      "geometry\n",
      "computation\n",
      "math\n",
      "dance\n",
      "poetry\n",
      "drama\n",
      "novel\n",
      "art\n",
      "sculpture\n",
      "literature\n",
      "symphony\n",
      "dance\n",
      "poetry\n",
      "drama\n",
      "novel\n",
      "art\n",
      "sculpture\n",
      "literature\n",
      "symphony\n",
      "astronomy\n",
      "biology\n",
      "technology\n",
      "physics\n",
      "science\n",
      "experiment\n",
      "chemistry\n",
      "astronomy\n",
      "biology\n",
      "technology\n",
      "physics\n",
      "science\n",
      "experiment\n",
      "chemistry\n",
      "dance\n",
      "poetry\n",
      "drama\n",
      "novel\n",
      "art\n",
      "sculpture\n",
      "literature\n",
      "symphony\n",
      "dance\n",
      "poetry\n",
      "drama\n",
      "novel\n",
      "art\n",
      "sculpture\n",
      "literature\n",
      "symphony\n",
      "0.6424120540168705\n",
      "0.7230399176997947\n",
      "0.9589148625635426\n",
      "0.9173923772478517\n"
     ]
    }
   ],
   "source": [
    "math_nums = pairwise_mult(pronoun_graph, ['math', 'a1'], ['m1', 'f1'])\n",
    "science_nums = pairwise_mult(pronoun_graph, ['science', 'a2'], ['m2', 'f2'])\n",
    "print((math_nums['math']['f1'].sum() / math_nums['math']['m1'].sum()).mean())\n",
    "print((math_nums['a1']['f1'].sum()/(math_nums['a1']['m1'].sum())).mean())\n",
    "print((science_nums['science']['f2'].sum()/(science_nums['science']['m2'].sum())).mean())\n",
    "print((science_nums['a2']['f2'].sum()/(science_nums['a2']['m2'].sum())).mean())"
   ]
  },
  {
   "cell_type": "code",
   "execution_count": 38,
   "metadata": {},
   "outputs": [
    {
     "name": "stdout",
     "output_type": "stream",
     "text": [
      "numbers\n",
      "algebra\n",
      "equations\n",
      "addition\n",
      "calculus\n",
      "geometry\n",
      "computation\n",
      "math\n",
      "numbers\n",
      "algebra\n",
      "equations\n",
      "addition\n",
      "calculus\n",
      "geometry\n",
      "computation\n",
      "math\n",
      "dance\n",
      "poetry\n",
      "drama\n",
      "novel\n",
      "art\n",
      "sculpture\n",
      "literature\n",
      "symphony\n",
      "dance\n",
      "poetry\n",
      "drama\n",
      "novel\n",
      "art\n",
      "sculpture\n",
      "literature\n",
      "symphony\n",
      "astronomy\n",
      "biology\n",
      "technology\n",
      "physics\n",
      "science\n",
      "experiment\n",
      "chemistry\n",
      "astronomy\n",
      "biology\n",
      "technology\n",
      "physics\n",
      "science\n",
      "experiment\n",
      "chemistry\n",
      "dance\n",
      "poetry\n",
      "drama\n",
      "novel\n",
      "art\n",
      "sculpture\n",
      "literature\n",
      "symphony\n",
      "dance\n",
      "poetry\n",
      "drama\n",
      "novel\n",
      "art\n",
      "sculpture\n",
      "literature\n",
      "symphony\n",
      "0.5708007851791435\n",
      "0.5634364295326919\n",
      "0.5012910419761976\n",
      "0.43714324314716513\n"
     ]
    }
   ],
   "source": [
    "math_nums = pairwise_mult(graph, ['math', 'a1'], ['m1', 'f1'])\n",
    "science_nums = pairwise_mult(graph, ['science', 'a2'], ['m2', 'f2'])\n",
    "print((math_nums['math']['f1'].sum() / math_nums['math']['m1'].sum()).mean())\n",
    "print((math_nums['a1']['f1'].sum()/(math_nums['a1']['m1'].sum())).mean())\n",
    "print((science_nums['science']['f2'].sum()/(science_nums['science']['m2'].sum())).mean())\n",
    "print((science_nums['a2']['f2'].sum()/(science_nums['a2']['m2'].sum())).mean())"
   ]
  },
  {
   "cell_type": "code",
   "execution_count": null,
   "metadata": {},
   "outputs": [],
   "source": []
  }
 ],
 "metadata": {
  "kernelspec": {
   "display_name": "Python 3",
   "language": "python",
   "name": "python3"
  },
  "language_info": {
   "codemirror_mode": {
    "name": "ipython",
    "version": 3
   },
   "file_extension": ".py",
   "mimetype": "text/x-python",
   "name": "python",
   "nbconvert_exporter": "python",
   "pygments_lexer": "ipython3",
   "version": "3.6.9"
  }
 },
 "nbformat": 4,
 "nbformat_minor": 4
}
